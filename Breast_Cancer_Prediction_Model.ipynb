{
  "nbformat": 4,
  "nbformat_minor": 0,
  "metadata": {
    "colab": {
      "name": "Breast Cancer Prediction Model.ipynb",
      "provenance": [],
      "collapsed_sections": [],
      "include_colab_link": true
    },
    "kernelspec": {
      "name": "python3",
      "display_name": "Python 3"
    }
  },
  "cells": [
    {
      "cell_type": "markdown",
      "metadata": {
        "id": "view-in-github",
        "colab_type": "text"
      },
      "source": [
        "<a href=\"https://colab.research.google.com/github/shuvechchha/Breast-Cancer-Prediction-Model/blob/main/Breast_Cancer_Prediction_Model.ipynb\" target=\"_parent\"><img src=\"https://colab.research.google.com/assets/colab-badge.svg\" alt=\"Open In Colab\"/></a>"
      ]
    },
    {
      "cell_type": "markdown",
      "metadata": {
        "id": "ljOJIcuCB-t7"
      },
      "source": [
        "# Project 1\n",
        "\n",
        "Project 1 is about using cross-validation to explore hyperparameter options for two different types of models. We are using a random forest model and a k-nearest neighbors model.\n",
        "\n",
        "We are using another dataset with a long history in machine learning, a dataset from the Univerisity of Wisconsin on breast cancer.\n",
        "\n",
        "Be sure to mount your drive so that you can access the data set."
      ]
    },
    {
      "cell_type": "code",
      "metadata": {
        "colab": {
          "base_uri": "https://localhost:8080/"
        },
        "id": "sNy__EOh0uLi",
        "outputId": "134bb2d3-7dcf-4308-9887-5221e6b07879"
      },
      "source": [
        "from google.colab import drive\n",
        "drive.mount('/content/drive')"
      ],
      "execution_count": null,
      "outputs": [
        {
          "output_type": "stream",
          "name": "stdout",
          "text": [
            "Drive already mounted at /content/drive; to attempt to forcibly remount, call drive.mount(\"/content/drive\", force_remount=True).\n"
          ]
        }
      ]
    },
    {
      "cell_type": "code",
      "metadata": {
        "id": "ekp5Jw8enH5s"
      },
      "source": [
        "import numpy as np\n",
        "import pandas as pd\n",
        "from sklearn.model_selection import train_test_split\n",
        "from sklearn.model_selection import cross_validate\n",
        "from sklearn.ensemble import RandomForestClassifier\n",
        "from sklearn.neighbors import KNeighborsClassifier\n",
        "from sklearn.preprocessing import StandardScaler"
      ],
      "execution_count": null,
      "outputs": []
    },
    {
      "cell_type": "code",
      "metadata": {
        "id": "5srQlLDZjy3m",
        "colab": {
          "base_uri": "https://localhost:8080/",
          "height": 275
        },
        "outputId": "4ce979d8-9fe4-42ae-cc46-4e8683daecfd"
      },
      "source": [
        "# Read in the dataset and specify the id column to be row indices\n",
        "bcwd = pd.read_csv('/content/drive/My Drive/HDS/Datasets/breast_cancer_wisconsin_diagnostic.csv', index_col='id')\n",
        "# Recode the classes with numbers\n",
        "bcwd['diagnosis'].replace('M',1, inplace=True)\n",
        "bcwd['diagnosis'].replace('B',0, inplace=True)\n",
        "bcwd.head()"
      ],
      "execution_count": null,
      "outputs": [
        {
          "output_type": "execute_result",
          "data": {
            "text/html": [
              "<div>\n",
              "<style scoped>\n",
              "    .dataframe tbody tr th:only-of-type {\n",
              "        vertical-align: middle;\n",
              "    }\n",
              "\n",
              "    .dataframe tbody tr th {\n",
              "        vertical-align: top;\n",
              "    }\n",
              "\n",
              "    .dataframe thead th {\n",
              "        text-align: right;\n",
              "    }\n",
              "</style>\n",
              "<table border=\"1\" class=\"dataframe\">\n",
              "  <thead>\n",
              "    <tr style=\"text-align: right;\">\n",
              "      <th></th>\n",
              "      <th>diagnosis</th>\n",
              "      <th>radius_mean</th>\n",
              "      <th>texture_mean</th>\n",
              "      <th>perimeter_mean</th>\n",
              "      <th>area_mean</th>\n",
              "      <th>smoothness_mean</th>\n",
              "      <th>compactness_mean</th>\n",
              "      <th>concavity_mean</th>\n",
              "      <th>concave points_mean</th>\n",
              "      <th>symmetry_mean</th>\n",
              "      <th>fractal_dimension_mean</th>\n",
              "      <th>radius_se</th>\n",
              "      <th>texture_se</th>\n",
              "      <th>perimeter_se</th>\n",
              "      <th>area_se</th>\n",
              "      <th>smoothness_se</th>\n",
              "      <th>compactness_se</th>\n",
              "      <th>concavity_se</th>\n",
              "      <th>concave points_se</th>\n",
              "      <th>symmetry_se</th>\n",
              "      <th>fractal_dimension_se</th>\n",
              "      <th>radius_worst</th>\n",
              "      <th>texture_worst</th>\n",
              "      <th>perimeter_worst</th>\n",
              "      <th>area_worst</th>\n",
              "      <th>smoothness_worst</th>\n",
              "      <th>compactness_worst</th>\n",
              "      <th>concavity_worst</th>\n",
              "      <th>concave points_worst</th>\n",
              "      <th>symmetry_worst</th>\n",
              "      <th>fractal_dimension_worst</th>\n",
              "    </tr>\n",
              "    <tr>\n",
              "      <th>id</th>\n",
              "      <th></th>\n",
              "      <th></th>\n",
              "      <th></th>\n",
              "      <th></th>\n",
              "      <th></th>\n",
              "      <th></th>\n",
              "      <th></th>\n",
              "      <th></th>\n",
              "      <th></th>\n",
              "      <th></th>\n",
              "      <th></th>\n",
              "      <th></th>\n",
              "      <th></th>\n",
              "      <th></th>\n",
              "      <th></th>\n",
              "      <th></th>\n",
              "      <th></th>\n",
              "      <th></th>\n",
              "      <th></th>\n",
              "      <th></th>\n",
              "      <th></th>\n",
              "      <th></th>\n",
              "      <th></th>\n",
              "      <th></th>\n",
              "      <th></th>\n",
              "      <th></th>\n",
              "      <th></th>\n",
              "      <th></th>\n",
              "      <th></th>\n",
              "      <th></th>\n",
              "      <th></th>\n",
              "    </tr>\n",
              "  </thead>\n",
              "  <tbody>\n",
              "    <tr>\n",
              "      <th>842302</th>\n",
              "      <td>1</td>\n",
              "      <td>17.99</td>\n",
              "      <td>10.38</td>\n",
              "      <td>122.80</td>\n",
              "      <td>1001.0</td>\n",
              "      <td>0.11840</td>\n",
              "      <td>0.27760</td>\n",
              "      <td>0.3001</td>\n",
              "      <td>0.14710</td>\n",
              "      <td>0.2419</td>\n",
              "      <td>0.07871</td>\n",
              "      <td>1.0950</td>\n",
              "      <td>0.9053</td>\n",
              "      <td>8.589</td>\n",
              "      <td>153.40</td>\n",
              "      <td>0.006399</td>\n",
              "      <td>0.04904</td>\n",
              "      <td>0.05373</td>\n",
              "      <td>0.01587</td>\n",
              "      <td>0.03003</td>\n",
              "      <td>0.006193</td>\n",
              "      <td>25.38</td>\n",
              "      <td>17.33</td>\n",
              "      <td>184.60</td>\n",
              "      <td>2019.0</td>\n",
              "      <td>0.1622</td>\n",
              "      <td>0.6656</td>\n",
              "      <td>0.7119</td>\n",
              "      <td>0.2654</td>\n",
              "      <td>0.4601</td>\n",
              "      <td>0.11890</td>\n",
              "    </tr>\n",
              "    <tr>\n",
              "      <th>842517</th>\n",
              "      <td>1</td>\n",
              "      <td>20.57</td>\n",
              "      <td>17.77</td>\n",
              "      <td>132.90</td>\n",
              "      <td>1326.0</td>\n",
              "      <td>0.08474</td>\n",
              "      <td>0.07864</td>\n",
              "      <td>0.0869</td>\n",
              "      <td>0.07017</td>\n",
              "      <td>0.1812</td>\n",
              "      <td>0.05667</td>\n",
              "      <td>0.5435</td>\n",
              "      <td>0.7339</td>\n",
              "      <td>3.398</td>\n",
              "      <td>74.08</td>\n",
              "      <td>0.005225</td>\n",
              "      <td>0.01308</td>\n",
              "      <td>0.01860</td>\n",
              "      <td>0.01340</td>\n",
              "      <td>0.01389</td>\n",
              "      <td>0.003532</td>\n",
              "      <td>24.99</td>\n",
              "      <td>23.41</td>\n",
              "      <td>158.80</td>\n",
              "      <td>1956.0</td>\n",
              "      <td>0.1238</td>\n",
              "      <td>0.1866</td>\n",
              "      <td>0.2416</td>\n",
              "      <td>0.1860</td>\n",
              "      <td>0.2750</td>\n",
              "      <td>0.08902</td>\n",
              "    </tr>\n",
              "    <tr>\n",
              "      <th>84300903</th>\n",
              "      <td>1</td>\n",
              "      <td>19.69</td>\n",
              "      <td>21.25</td>\n",
              "      <td>130.00</td>\n",
              "      <td>1203.0</td>\n",
              "      <td>0.10960</td>\n",
              "      <td>0.15990</td>\n",
              "      <td>0.1974</td>\n",
              "      <td>0.12790</td>\n",
              "      <td>0.2069</td>\n",
              "      <td>0.05999</td>\n",
              "      <td>0.7456</td>\n",
              "      <td>0.7869</td>\n",
              "      <td>4.585</td>\n",
              "      <td>94.03</td>\n",
              "      <td>0.006150</td>\n",
              "      <td>0.04006</td>\n",
              "      <td>0.03832</td>\n",
              "      <td>0.02058</td>\n",
              "      <td>0.02250</td>\n",
              "      <td>0.004571</td>\n",
              "      <td>23.57</td>\n",
              "      <td>25.53</td>\n",
              "      <td>152.50</td>\n",
              "      <td>1709.0</td>\n",
              "      <td>0.1444</td>\n",
              "      <td>0.4245</td>\n",
              "      <td>0.4504</td>\n",
              "      <td>0.2430</td>\n",
              "      <td>0.3613</td>\n",
              "      <td>0.08758</td>\n",
              "    </tr>\n",
              "    <tr>\n",
              "      <th>84348301</th>\n",
              "      <td>1</td>\n",
              "      <td>11.42</td>\n",
              "      <td>20.38</td>\n",
              "      <td>77.58</td>\n",
              "      <td>386.1</td>\n",
              "      <td>0.14250</td>\n",
              "      <td>0.28390</td>\n",
              "      <td>0.2414</td>\n",
              "      <td>0.10520</td>\n",
              "      <td>0.2597</td>\n",
              "      <td>0.09744</td>\n",
              "      <td>0.4956</td>\n",
              "      <td>1.1560</td>\n",
              "      <td>3.445</td>\n",
              "      <td>27.23</td>\n",
              "      <td>0.009110</td>\n",
              "      <td>0.07458</td>\n",
              "      <td>0.05661</td>\n",
              "      <td>0.01867</td>\n",
              "      <td>0.05963</td>\n",
              "      <td>0.009208</td>\n",
              "      <td>14.91</td>\n",
              "      <td>26.50</td>\n",
              "      <td>98.87</td>\n",
              "      <td>567.7</td>\n",
              "      <td>0.2098</td>\n",
              "      <td>0.8663</td>\n",
              "      <td>0.6869</td>\n",
              "      <td>0.2575</td>\n",
              "      <td>0.6638</td>\n",
              "      <td>0.17300</td>\n",
              "    </tr>\n",
              "    <tr>\n",
              "      <th>84358402</th>\n",
              "      <td>1</td>\n",
              "      <td>20.29</td>\n",
              "      <td>14.34</td>\n",
              "      <td>135.10</td>\n",
              "      <td>1297.0</td>\n",
              "      <td>0.10030</td>\n",
              "      <td>0.13280</td>\n",
              "      <td>0.1980</td>\n",
              "      <td>0.10430</td>\n",
              "      <td>0.1809</td>\n",
              "      <td>0.05883</td>\n",
              "      <td>0.7572</td>\n",
              "      <td>0.7813</td>\n",
              "      <td>5.438</td>\n",
              "      <td>94.44</td>\n",
              "      <td>0.011490</td>\n",
              "      <td>0.02461</td>\n",
              "      <td>0.05688</td>\n",
              "      <td>0.01885</td>\n",
              "      <td>0.01756</td>\n",
              "      <td>0.005115</td>\n",
              "      <td>22.54</td>\n",
              "      <td>16.67</td>\n",
              "      <td>152.20</td>\n",
              "      <td>1575.0</td>\n",
              "      <td>0.1374</td>\n",
              "      <td>0.2050</td>\n",
              "      <td>0.4000</td>\n",
              "      <td>0.1625</td>\n",
              "      <td>0.2364</td>\n",
              "      <td>0.07678</td>\n",
              "    </tr>\n",
              "  </tbody>\n",
              "</table>\n",
              "</div>"
            ],
            "text/plain": [
              "          diagnosis  radius_mean  ...  symmetry_worst  fractal_dimension_worst\n",
              "id                                ...                                         \n",
              "842302            1        17.99  ...          0.4601                  0.11890\n",
              "842517            1        20.57  ...          0.2750                  0.08902\n",
              "84300903          1        19.69  ...          0.3613                  0.08758\n",
              "84348301          1        11.42  ...          0.6638                  0.17300\n",
              "84358402          1        20.29  ...          0.2364                  0.07678\n",
              "\n",
              "[5 rows x 31 columns]"
            ]
          },
          "metadata": {},
          "execution_count": 45
        }
      ]
    },
    {
      "cell_type": "code",
      "metadata": {
        "id": "olkN3PKIo26I"
      },
      "source": [
        "# Create training and test sets\n",
        "# Using a seed for the random number generator to ensure the split is the same every time\n",
        "# for the purposes of this project\n",
        "training_set, test_set = train_test_split(bcwd, test_size=0.20, random_state=42)\n",
        "\n",
        "# Use all of the features, excluding diagnosis at the beginning\n",
        "training_features = training_set.iloc[:,1:]\n",
        "# Targets are at the end\n",
        "training_targets = training_set.iloc[:,0]\n",
        "\n",
        "# Pull out the same features and targets from test set\n",
        "testing_features = test_set.iloc[:,1:]\n",
        "testing_targets = test_set.iloc[:,0]\n",
        "\n",
        "# Use this list of measurements to score your cross-validation results\n",
        "scoring = ['accuracy','precision', 'recall', 'f1']"
      ],
      "execution_count": null,
      "outputs": []
    },
    {
      "cell_type": "markdown",
      "metadata": {
        "id": "YkI5Er2jDy26"
      },
      "source": [
        "# Part One\n",
        "\n",
        "In this part we will train a series of random forest models using cross-validation. We will perform what is called a grid search of two different hyperparameters. A grid search explores different combinations of values across multiple hyperparamters. \n",
        "\n",
        "For our purposes, we will explore max_features and max_depth. Max_features specifies how many features each tree has access too. Max_depth limits the growth of the tree. We will explore two values (small and large) for max_features, 4 and 20, and two values of max_depth, 4 and 10. This means a total of 4 models will be created. \n",
        "\n",
        "The first model with max_features=4 and max_depth=4 has code ready to go. You will need to create the other three models that have different pairings of hyperparameter values. Finally, pick your model with the highest test_accuracy and evaluate it on the test set (Code is given for this, but you must set the hyperparameters based on your results).\n"
      ]
    },
    {
      "cell_type": "code",
      "metadata": {
        "id": "tPTFXPon9DuC",
        "colab": {
          "base_uri": "https://localhost:8080/"
        },
        "outputId": "93b95755-c697-47fd-a3c1-ae2a62e4496b"
      },
      "source": [
        "# Sample code of a random forest cross-validation run\n",
        "\n",
        "# Create the random forest model with max_features=4 and max_depth=4\n",
        "rf_model1 = RandomForestClassifier(criterion='entropy', max_features=4, max_depth=4, random_state=3)\n",
        "\n",
        "# Cross validation calculating multiple metrics\n",
        "rf_model1.fit(training_features, training_targets)\n",
        "scores1 = cross_validate(rf_model1, training_features, training_targets, scoring=scoring, return_train_score=True, cv=5)\n",
        "\n",
        "# Average the runs\n",
        "results1 = pd.DataFrame(scores1)\n",
        "results1.mean()"
      ],
      "execution_count": null,
      "outputs": [
        {
          "output_type": "execute_result",
          "data": {
            "text/plain": [
              "fit_time           0.198069\n",
              "score_time         0.014280\n",
              "test_accuracy      0.956044\n",
              "train_accuracy     0.992857\n",
              "test_precision     0.952086\n",
              "train_precision    1.000000\n",
              "test_recall        0.929055\n",
              "train_recall       0.980773\n",
              "test_f1            0.939615\n",
              "train_f1           0.990290\n",
              "dtype: float64"
            ]
          },
          "metadata": {},
          "execution_count": 47
        }
      ]
    },
    {
      "cell_type": "code",
      "metadata": {
        "id": "0RX5TMT2_lQa",
        "colab": {
          "base_uri": "https://localhost:8080/"
        },
        "outputId": "d1b886a6-86ff-4b84-bf49-48f11d528ec6"
      },
      "source": [
        "# Create the random forest model with max_features=4 and max_depth=10\n",
        "\n",
        "rf_model2 = RandomForestClassifier(criterion='entropy', max_features=4, max_depth=10, random_state=3)\n",
        "\n",
        "rf_model2.fit(training_features, training_targets)\n",
        "scores2 = cross_validate(rf_model2, training_features, training_targets, scoring=scoring, return_train_score=True, cv=5)\n",
        "\n",
        "results2 = pd.DataFrame(scores2)\n",
        "results2.mean()"
      ],
      "execution_count": null,
      "outputs": [
        {
          "output_type": "execute_result",
          "data": {
            "text/plain": [
              "fit_time           0.205838\n",
              "score_time         0.012627\n",
              "test_accuracy      0.958242\n",
              "train_accuracy     1.000000\n",
              "test_precision     0.963473\n",
              "train_precision    1.000000\n",
              "test_recall        0.923173\n",
              "train_recall       1.000000\n",
              "test_f1            0.942157\n",
              "train_f1           1.000000\n",
              "dtype: float64"
            ]
          },
          "metadata": {},
          "execution_count": 48
        }
      ]
    },
    {
      "cell_type": "code",
      "metadata": {
        "id": "k3nn3HAY_ny-",
        "colab": {
          "base_uri": "https://localhost:8080/"
        },
        "outputId": "0523972d-4bde-4a39-a767-755a116a3842"
      },
      "source": [
        "# Create the random forest model with max_features=20 and max_depth=4\n",
        "rf_model3 = RandomForestClassifier(criterion='entropy', max_features=20, max_depth=4, random_state=3)\n",
        "\n",
        "rf_model3.fit(training_features, training_targets)\n",
        "scores3 = cross_validate(rf_model3, training_features, training_targets, scoring=scoring, return_train_score=True, cv=5)\n",
        "\n",
        "results3 = pd.DataFrame(scores3)\n",
        "results3.mean()"
      ],
      "execution_count": null,
      "outputs": [
        {
          "output_type": "execute_result",
          "data": {
            "text/plain": [
              "fit_time           0.410085\n",
              "score_time         0.011585\n",
              "test_accuracy      0.960440\n",
              "train_accuracy     0.995055\n",
              "test_precision     0.964221\n",
              "train_precision    1.000000\n",
              "test_recall        0.929055\n",
              "train_recall       0.986688\n",
              "test_f1            0.945502\n",
              "train_f1           0.993292\n",
              "dtype: float64"
            ]
          },
          "metadata": {},
          "execution_count": 49
        }
      ]
    },
    {
      "cell_type": "code",
      "metadata": {
        "id": "6Z00oKRPBIpZ",
        "colab": {
          "base_uri": "https://localhost:8080/"
        },
        "outputId": "b575f6d5-02d6-4e5d-c6a2-83368bb6362b"
      },
      "source": [
        "# Create the random forest model with max_features=20 and max_depth=10\n",
        "rf_model4 = RandomForestClassifier(criterion='entropy', max_features=20, max_depth=10, random_state=3)\n",
        "\n",
        "rf_model4.fit(training_features, training_targets)\n",
        "scores4 = cross_validate(rf_model4, training_features, training_targets, scoring=scoring, return_train_score=True, cv=5)\n",
        "\n",
        "results4 = pd.DataFrame(scores4)\n",
        "results4.mean()"
      ],
      "execution_count": null,
      "outputs": [
        {
          "output_type": "execute_result",
          "data": {
            "text/plain": [
              "fit_time           0.418800\n",
              "score_time         0.013035\n",
              "test_accuracy      0.958242\n",
              "train_accuracy     1.000000\n",
              "test_precision     0.957971\n",
              "train_precision    1.000000\n",
              "test_recall        0.929055\n",
              "train_recall       1.000000\n",
              "test_f1            0.942521\n",
              "train_f1           1.000000\n",
              "dtype: float64"
            ]
          },
          "metadata": {},
          "execution_count": 50
        }
      ]
    },
    {
      "cell_type": "code",
      "metadata": {
        "id": "XbzY8pq37VIZ",
        "colab": {
          "base_uri": "https://localhost:8080/"
        },
        "outputId": "c1cf81b4-d5e1-464b-9ec0-3f4ad3b2dde5"
      },
      "source": [
        "# Sample code evaluating an rf model on the test set\n",
        "# Customize it as appropriate\n",
        "rf_model1 = RandomForestClassifier(criterion='entropy', max_features=4, max_depth=4)\n",
        "rf_model1.fit(training_features, training_targets)\n",
        "\n",
        "# The score method is quick way of getting the accuracy on the testing data\n",
        "rf_model1.score(testing_features, testing_targets)"
      ],
      "execution_count": null,
      "outputs": [
        {
          "output_type": "execute_result",
          "data": {
            "text/plain": [
              "0.9649122807017544"
            ]
          },
          "metadata": {},
          "execution_count": 51
        }
      ]
    },
    {
      "cell_type": "code",
      "metadata": {
        "colab": {
          "base_uri": "https://localhost:8080/"
        },
        "id": "G4nRUd_M4mov",
        "outputId": "af6ad4e3-57ea-41ba-99c2-3fa2d691ea6d"
      },
      "source": [
        "rf_model2 = RandomForestClassifier(criterion='entropy', max_features=4, max_depth=10)\n",
        "rf_model2.fit(training_features, training_targets)\n",
        "rf_model2.score(testing_features, testing_targets)"
      ],
      "execution_count": null,
      "outputs": [
        {
          "output_type": "execute_result",
          "data": {
            "text/plain": [
              "0.9649122807017544"
            ]
          },
          "metadata": {},
          "execution_count": 52
        }
      ]
    },
    {
      "cell_type": "code",
      "metadata": {
        "colab": {
          "base_uri": "https://localhost:8080/"
        },
        "id": "zmaiQ2m39yGJ",
        "outputId": "09982ffb-34dc-4d9a-fa26-d844ef8d2b6b"
      },
      "source": [
        "rf_model3 = RandomForestClassifier(criterion='entropy', max_features=20, max_depth=4)\n",
        "rf_model3.fit(training_features, training_targets)\n",
        "rf_model3.score(testing_features, testing_targets)"
      ],
      "execution_count": null,
      "outputs": [
        {
          "output_type": "execute_result",
          "data": {
            "text/plain": [
              "0.9649122807017544"
            ]
          },
          "metadata": {},
          "execution_count": 53
        }
      ]
    },
    {
      "cell_type": "code",
      "metadata": {
        "colab": {
          "base_uri": "https://localhost:8080/"
        },
        "id": "2X_KZLYK9yNX",
        "outputId": "5115e0a5-a154-45c4-9dac-db1d50cd47cd"
      },
      "source": [
        "rf_model4 = RandomForestClassifier(criterion='entropy', max_features=20, max_depth=10)\n",
        "rf_model4.fit(training_features, training_targets)\n",
        "rf_model4.score(testing_features, testing_targets)"
      ],
      "execution_count": null,
      "outputs": [
        {
          "output_type": "execute_result",
          "data": {
            "text/plain": [
              "0.956140350877193"
            ]
          },
          "metadata": {},
          "execution_count": 54
        }
      ]
    },
    {
      "cell_type": "markdown",
      "metadata": {
        "id": "9Zh0CHcDGYfQ"
      },
      "source": [
        "## Questions on Part One\n",
        "\n",
        "1) Which model had the highest accuracy test_accuracy score?\n",
        "\n",
        "2) Which model had the highest test_f1 score?\n",
        "\n",
        "3) Which model had the highest fit_time? Why do you think this is?\n",
        "\n",
        "4) Which model had the lowest fit_time? Why do you think this is?\n",
        "\n",
        "5) Does the model with the highest fit_time have the best f1 score?\n",
        "\n",
        "6) Did you see any evidence of over-fitting from the training accuracy scores?\n",
        "\n",
        "7) How did your best model in terms of test_accuracy score do when evaluated on the testing set using the score method? How different were the results from the test_accuracy score during cross-validation? "
      ]
    },
    {
      "cell_type": "markdown",
      "metadata": {
        "id": "rRG7c7A_2Mw7"
      },
      "source": [
        "\n",
        "1.   The third model with max_features=20 and max_depth=4 has the highest accuracy score of 0.960440.\n",
        "2.  The third model with max_features=20 and max_depth=4 has the highest test_f1 score of 0.945502. \n",
        "3. The fourth model with max_features=20 and max_depth=10 has the highest fit_time score of 0.418800. Since this model considers the highest number of features and depth, it must take longer time to fit. \n",
        "4.   The first model with max_features=4 and max_depth=4 has the lowest fit_time score of 0.198069. Since this model considers the lowest number of features and depth, it might have the lowest fit_time. \n",
        "5.   No, the model with the highest fit_time score does not have the best f1 score. \n",
        "6.  There is no significant evidence of overfitting from the trianing accuracy scores.   \n",
        "7.   When the best model on accuracy was tested on the testing set using the score method, it received a higher score of 0.9649122. Except for the fourth model with max_features=20 and max_depth=10, which has a test accuracy score of 0.956140, all of the models have the same test accuracy score of 0.9649122. When tested on the testing set using the score method, the fourth model scored lower on test accuracy, whilst other models scored higher.\n",
        "\n",
        "\n",
        "\n",
        "\n",
        "\n",
        "\n",
        "\n",
        "\n"
      ]
    },
    {
      "cell_type": "markdown",
      "metadata": {
        "id": "HtVWuxVw5Ihr"
      },
      "source": [
        "# Part Two\n",
        "In part two we will explore using k-nearest neighbors algorithm. First, we will investigate whether scaling the data improves results. Second, we ill use cross-validation to set the k value of our model. \n",
        "\n",
        "Code is given to create and evaluate a k-nearest neighbors model with K=3 on the original data. Code is then given to scale the data. You need to then recreate the knn model with K=3 and evalute its performance on the scaled data. Then create knn models with K=7 and K=12 and evaluate them. Finally, pick your model with the highest test_accuracy and evaluate it on the test set (Code is given for this, but you must set the correct K value).\n"
      ]
    },
    {
      "cell_type": "code",
      "metadata": {
        "id": "ShMzVn2h3LiI",
        "colab": {
          "base_uri": "https://localhost:8080/"
        },
        "outputId": "3ede35f7-6ac2-4e32-b26f-6a8f3a576875"
      },
      "source": [
        "# Sample code of a KNN cross-validation run\n",
        "\n",
        "# Create KNN model with n_neighbors=3, train on original data\n",
        "knn_model1 = KNeighborsClassifier(n_neighbors=3)\n",
        "\n",
        "# Cross validation calculating multiple metrics\n",
        "knn_model1.fit(training_features, training_targets)\n",
        "scores1 = cross_validate(knn_model, training_features, training_targets, scoring=scoring, return_train_score=True, cv=5)\n",
        "\n",
        "# Average the runs\n",
        "results1 = pd.DataFrame(scores1)\n",
        "results1.mean()"
      ],
      "execution_count": null,
      "outputs": [
        {
          "output_type": "execute_result",
          "data": {
            "text/plain": [
              "fit_time           0.002319\n",
              "score_time         0.007867\n",
              "test_accuracy      0.920879\n",
              "train_accuracy     0.948901\n",
              "test_precision     0.934580\n",
              "train_precision    0.964923\n",
              "test_recall        0.846702\n",
              "train_recall       0.895000\n",
              "test_f1            0.886192\n",
              "train_f1           0.928605\n",
              "dtype: float64"
            ]
          },
          "metadata": {},
          "execution_count": 73
        }
      ]
    },
    {
      "cell_type": "code",
      "metadata": {
        "id": "KgkG-JAs79r1"
      },
      "source": [
        "# Scale the features to have a mean of 0 and a standard deviation of 1\n",
        "feature_scaler = StandardScaler().fit(training_features)\n",
        "training_features_scaled = feature_scaler.transform(training_features)\n",
        "testing_features_scaled = feature_scaler.transform(testing_features)"
      ],
      "execution_count": null,
      "outputs": []
    },
    {
      "cell_type": "code",
      "metadata": {
        "id": "2qt8vLe58FKf",
        "colab": {
          "base_uri": "https://localhost:8080/"
        },
        "outputId": "004ed5d9-2201-47c4-8a71-6995583bbf08"
      },
      "source": [
        "# Create KNN model with n_neighbors=3, train on scaled data\n",
        "knn_model1 = KNeighborsClassifier(n_neighbors=3)\n",
        "knn_model1.fit(training_features_scaled, training_targets)\n",
        "scores1 = cross_validate(knn_model1, training_features_scaled, training_targets, scoring=scoring, return_train_score=True, cv=5)\n",
        "\n",
        "results1 = pd.DataFrame(scores1)\n",
        "results1.mean()"
      ],
      "execution_count": null,
      "outputs": [
        {
          "output_type": "execute_result",
          "data": {
            "text/plain": [
              "fit_time           0.001718\n",
              "score_time         0.009085\n",
              "test_accuracy      0.960440\n",
              "train_accuracy     0.982418\n",
              "test_precision     0.974531\n",
              "train_precision    0.996947\n",
              "test_recall        0.917291\n",
              "train_recall       0.955621\n",
              "test_f1            0.944211\n",
              "train_f1           0.975814\n",
              "dtype: float64"
            ]
          },
          "metadata": {},
          "execution_count": 75
        }
      ]
    },
    {
      "cell_type": "code",
      "metadata": {
        "id": "Xm3IKheD_l8z",
        "colab": {
          "base_uri": "https://localhost:8080/"
        },
        "outputId": "038717e8-6e59-4122-9ce0-f35e2c037e56"
      },
      "source": [
        "# Create KNN model with n_neighbors=7, train on scaled data\n",
        "knn_model2 = KNeighborsClassifier(n_neighbors=7)\n",
        "knn_model2.fit(training_features_scaled, training_targets)\n",
        "scores2 = cross_validate(knn_model2, training_features_scaled, training_targets, scoring=scoring, return_train_score=True, cv=5)\n",
        "\n",
        "results2 = pd.DataFrame(scores2)\n",
        "results2.mean()"
      ],
      "execution_count": null,
      "outputs": [
        {
          "output_type": "execute_result",
          "data": {
            "text/plain": [
              "fit_time           0.001508\n",
              "score_time         0.008172\n",
              "test_accuracy      0.960440\n",
              "train_accuracy     0.971429\n",
              "test_precision     0.981339\n",
              "train_precision    0.998374\n",
              "test_recall        0.911586\n",
              "train_recall       0.924575\n",
              "test_f1            0.943823\n",
              "train_f1           0.959980\n",
              "dtype: float64"
            ]
          },
          "metadata": {},
          "execution_count": 76
        }
      ]
    },
    {
      "cell_type": "code",
      "metadata": {
        "id": "F9HJxpoc_nt9",
        "colab": {
          "base_uri": "https://localhost:8080/"
        },
        "outputId": "00c6e232-f8fd-487e-d88d-5002d8f13dea"
      },
      "source": [
        "# Create KNN model with n_neighbors=12, train on scaled data\n",
        "knn_model3 = KNeighborsClassifier(n_neighbors=12)\n",
        "knn_model3.fit(training_features_scaled, training_targets)\n",
        "scores3 = cross_validate(knn_model3, training_features_scaled, training_targets, scoring=scoring, return_train_score=True, cv=5)\n",
        "\n",
        "results3 = pd.DataFrame(scores3)\n",
        "results3.mean()"
      ],
      "execution_count": null,
      "outputs": [
        {
          "output_type": "execute_result",
          "data": {
            "text/plain": [
              "fit_time           0.001645\n",
              "score_time         0.009588\n",
              "test_accuracy      0.953846\n",
              "train_accuracy     0.963187\n",
              "test_precision     0.993548\n",
              "train_precision    0.998319\n",
              "test_recall        0.881818\n",
              "train_recall       0.902364\n",
              "test_f1            0.933414\n",
              "train_f1           0.947875\n",
              "dtype: float64"
            ]
          },
          "metadata": {},
          "execution_count": 65
        }
      ]
    },
    {
      "cell_type": "code",
      "metadata": {
        "id": "blcj4iD2_rPk",
        "colab": {
          "base_uri": "https://localhost:8080/"
        },
        "outputId": "3060e296-fe8b-4118-96be-657ff7db2b22"
      },
      "source": [
        "# Sample code evaluating a knn model on the scaled test set\n",
        "# Customize it as appropriate\n",
        "knn_model1 = KNeighborsClassifier(n_neighbors=3)\n",
        "knn_model1.fit(training_features_scaled, training_targets)\n",
        "\n",
        "# The score method is quick way of getting the accuracy on the testing data\n",
        "knn_model1.score(testing_features_scaled, testing_targets)"
      ],
      "execution_count": null,
      "outputs": [
        {
          "output_type": "execute_result",
          "data": {
            "text/plain": [
              "0.9473684210526315"
            ]
          },
          "metadata": {},
          "execution_count": 68
        }
      ]
    },
    {
      "cell_type": "code",
      "metadata": {
        "colab": {
          "base_uri": "https://localhost:8080/"
        },
        "id": "YWCqaiy7xi5O",
        "outputId": "26cb8bc2-acd3-4afc-aeda-6e35c9b91098"
      },
      "source": [
        "knn_model2 = KNeighborsClassifier(n_neighbors=7)\n",
        "knn_model2.fit(training_features_scaled, training_targets)\n",
        "knn_model2.score(testing_features_scaled, testing_targets)"
      ],
      "execution_count": null,
      "outputs": [
        {
          "output_type": "execute_result",
          "data": {
            "text/plain": [
              "0.9473684210526315"
            ]
          },
          "metadata": {},
          "execution_count": 69
        }
      ]
    },
    {
      "cell_type": "code",
      "metadata": {
        "colab": {
          "base_uri": "https://localhost:8080/"
        },
        "id": "HLv5X36hxjHK",
        "outputId": "1a5d577e-c6ad-4093-91e4-66b9c52b6a73"
      },
      "source": [
        "knn_model3 = KNeighborsClassifier(n_neighbors=12)\n",
        "knn_model3.fit(training_features_scaled, training_targets)\n",
        "knn_model3.score(testing_features_scaled, testing_targets)"
      ],
      "execution_count": null,
      "outputs": [
        {
          "output_type": "execute_result",
          "data": {
            "text/plain": [
              "0.956140350877193"
            ]
          },
          "metadata": {},
          "execution_count": 70
        }
      ]
    },
    {
      "cell_type": "markdown",
      "metadata": {
        "id": "S17MEXtH_4vv"
      },
      "source": [
        "## Questions for Part Two\n",
        "\n",
        "1) Did the results from KNN model change when you switched to scaled features?\n",
        "\n",
        "2) Which KNN model had the highest test_accuracy? Did it also have the highest test_f1 score? Is precision or recall higher and what does that say about the model's performance?\n",
        "\n",
        "3) How did your best model in terms of test_accuracy do when evaluated on the testing set? Did the accuracy go up or down and by how much?\n",
        "\n",
        "4) How does your best KNN model compare to your best Random Forest model in terms of accuracy on the testing set?\n",
        "\n",
        "5) How do fit_times compare between the KNN models and the Random Forest models?"
      ]
    },
    {
      "cell_type": "markdown",
      "metadata": {
        "id": "rd_vc5g17Spb"
      },
      "source": [
        "1.   The results from the KNN model did change when switched to scaled features. \n",
        "2.   The first model with K=3 and the second model with K=7 had the highest test accuracy of 0.960440. The first model with K=3 had the highest test_f1 score of 0.944211 and the highest test recall of 0.917291. The third model with K=12 had the highest test precision of 0.993548. Test precision is higher than test recall in all three models which means that they have higher true positive rates than false positive rates. \n",
        "3.   The test accuracy of both the first and second models decreased from 0.960440 to 0.947368 which is a difference of 0.013072, when assessed on the testing set.\n",
        "4.  On the testing set, the best Random Forest model outperformed the best KNN model. \n",
        "5.  The Random Forest models outperformed the KNN models in terms of fit  times. The fit times for the Random Forest models ranged from 0.198069 to 0.418800, whereas the fit times for the KNN models ranged from 0.001508 to 0.002319.\n",
        "\n",
        "\n",
        "\n",
        "\n",
        "\n",
        "\n"
      ]
    }
  ]
}